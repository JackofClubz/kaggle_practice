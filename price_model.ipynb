{
 "cells": [
  {
   "cell_type": "code",
   "execution_count": 2,
   "metadata": {},
   "outputs": [
    {
     "ename": "ModuleNotFoundError",
     "evalue": "No module named 'tensorflow'",
     "output_type": "error",
     "traceback": [
      "\u001b[0;31m---------------------------------------------------------------------------\u001b[0m",
      "\u001b[0;31mModuleNotFoundError\u001b[0m                       Traceback (most recent call last)",
      "\u001b[0;32m<ipython-input-2-8d3f69723a3f>\u001b[0m in \u001b[0;36m<module>\u001b[0;34m\u001b[0m\n\u001b[1;32m      5\u001b[0m \u001b[0;32mimport\u001b[0m \u001b[0mrandom\u001b[0m\u001b[0;34m\u001b[0m\u001b[0;34m\u001b[0m\u001b[0m\n\u001b[1;32m      6\u001b[0m \u001b[0;32mimport\u001b[0m \u001b[0mnumpy\u001b[0m \u001b[0;32mas\u001b[0m \u001b[0mnp\u001b[0m\u001b[0;34m\u001b[0m\u001b[0;34m\u001b[0m\u001b[0m\n\u001b[0;32m----> 7\u001b[0;31m \u001b[0;32mimport\u001b[0m \u001b[0mtensorflow\u001b[0m \u001b[0;32mas\u001b[0m \u001b[0mtf\u001b[0m\u001b[0;34m\u001b[0m\u001b[0;34m\u001b[0m\u001b[0m\n\u001b[0m\u001b[1;32m      8\u001b[0m \u001b[0mos\u001b[0m\u001b[0;34m.\u001b[0m\u001b[0menviron\u001b[0m\u001b[0;34m[\u001b[0m\u001b[0;34m'PYTHONHASHSEED'\u001b[0m\u001b[0;34m]\u001b[0m \u001b[0;34m=\u001b[0m \u001b[0;34m'10000'\u001b[0m\u001b[0;34m\u001b[0m\u001b[0;34m\u001b[0m\u001b[0m\n\u001b[1;32m      9\u001b[0m \u001b[0mnp\u001b[0m\u001b[0;34m.\u001b[0m\u001b[0mrandom\u001b[0m\u001b[0;34m.\u001b[0m\u001b[0mseed\u001b[0m\u001b[0;34m(\u001b[0m\u001b[0;36m10001\u001b[0m\u001b[0;34m)\u001b[0m\u001b[0;34m\u001b[0m\u001b[0;34m\u001b[0m\u001b[0m\n",
      "\u001b[0;31mModuleNotFoundError\u001b[0m: No module named 'tensorflow'"
     ]
    }
   ],
   "source": [
    "from __future__ import division\n",
    "import pyximport\n",
    "pyximport.install()\n",
    "import os\n",
    "import random\n",
    "import numpy as np\n",
    "import tensorflow as tf\n",
    "os.environ['PYTHONHASHSEED'] = '10000'\n",
    "np.random.seed(10001)\n",
    "random.seed(10002)\n",
    "session_conf = tf.ConfigProto(intra_op_parallelism_threads=5, inter_op_parallelism_threads=1)\n",
    "from keras import backend\n",
    "tf.set_random_seed(10003)\n",
    "backend.set_session(tf.Session(graph=tf.get_default_graph(), config=session_conf))\n",
    "from keras.preprocessing.sequence import pad_sequences\n",
    "from keras.layers import Input, Dropout, Dense, concatenate, GRU, Embedding, Flatten, Activation, BatchNormalization, PReLU\n",
    "from keras.initializers import he_uniform\n",
    "from keras.layers import Conv1D\n",
    "from keras.layers import GlobalMaxPooling1D, GlobalAveragePooling1D\n",
    "from keras.optimizers import Adam, SGD\n",
    "from keras.models import Model"
   ]
  },
  {
   "cell_type": "code",
   "execution_count": null,
   "metadata": {},
   "outputs": [],
   "source": []
  }
 ],
 "metadata": {
  "kernelspec": {
   "display_name": "Python 3.8.5 ('base')",
   "language": "python",
   "name": "python3"
  },
  "language_info": {
   "codemirror_mode": {
    "name": "ipython",
    "version": 3
   },
   "file_extension": ".py",
   "mimetype": "text/x-python",
   "name": "python",
   "nbconvert_exporter": "python",
   "pygments_lexer": "ipython3",
   "version": "3.8.5"
  },
  "orig_nbformat": 4,
  "vscode": {
   "interpreter": {
    "hash": "86103890b8e590731de96d4c792ee598cf8a92a24bb5d00e2e611a3a1f264a81"
   }
  }
 },
 "nbformat": 4,
 "nbformat_minor": 2
}
{
 "cells": [
  {
   "cell_type": "code",
   "execution_count": null,
   "metadata": {},
   "outputs": [],
   "source": [
    "###################################################################\n",
    "    #GLOBAL VARIABLES\n",
    "path = '../input/'\n",
    "split = -1#1400000 # use -1 for submission, otherwise tha value of split is the number of instances in train\n",
    "cores = 4\n",
    "max_text_length=60###################\n",
    "min_df_one=5\n",
    "min_df_bi=5\n",
    "\n",
    "def clean_str(text):\n",
    "    try:\n",
    "        text = ' '.join( [w for w in text.split()[:max_text_length]] )        \n",
    "        text = text.lower()\n",
    "        text = re.sub(u\\\"é\\\", u\\\"e\\\", text)\n",
    "        text = re.sub(u\\\"ē\\\", u\\\"e\\\", text)\n",
    "        text = re.sub(u\\\"è\\\", u\\\"e\\\", text)\n",
    "        text = re.sub(u\\\"ê\\\", u\\\"e\\\", text)\n",
    "        text = re.sub(u\\\"à\\\", u\\\"a\\\", text)\n",
    "        text = re.sub(u\\\"â\\\", u\\\"a\\\", text)\n",
    "        text = re.sub(u\\\"ô\\\", u\\\"o\\\", text)\n",
    "        text = re.sub(u\\\"ō\\\", u\\\"o\\\", text)\n",
    "        text = re.sub(u\\\"ü\\\", u\\\"u\\\", text)\n",
    "        text = re.sub(u\\\"ï\\\", u\\\"i\\\", text)\n",
    "        text = re.sub(u\\\"ç\\\", u\\\"c\\\", text)\n",
    "        text = re.sub(u\\\"\\\\u2019\\\", u\\\"'\\\", text)\n",
    "        text = re.sub(u\\\"\\\\xed\\\", u\\\"i\\\", text)\n",
    "        text = re.sub(u\\\"w\\\\/\\\", u\\\" with \\\", text)\n",
    "        \n",
    "        text = re.sub(u\\\"[^a-z0-9]\\\", \\\" \\\", text)\n",
    "        text = u\\\" \\\".join(re.split('(\\\\d+)',text) )\n",
    "        text = re.sub( u\\\"\\\\s+\\\", u\\\" \\\", text ).strip()\n",
    "        text = ''.join(text)\n",
    "    except:\n",
    "        text = np.NaN\n",
    "    return text"
   ]
  }
 ],
 "metadata": {
  "language_info": {
   "name": "python"
  },
  "orig_nbformat": 4
 },
 "nbformat": 4,
 "nbformat_minor": 2
}

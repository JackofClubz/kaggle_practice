{
 "cells": [
  {
   "cell_type": "code",
   "execution_count": null,
   "metadata": {},
   "outputs": [],
   "source": [
    "###################################################################\n",
    "    #GLOBAL VARIABLES\n",
    "path = '../input/'\n",
    "split = -1#1400000 # use -1 for submission, otherwise tha value of split is the number of instances in train\n",
    "cores = 4\n",
    "max_text_length=60###################\n",
    "min_df_one=5\n",
    "min_df_bi=5\n",
    "\n",
    "def clean_str(text):\n",
    "    try:\n",
    "        text = ' '.join( [w for w in text.split()[:max_text_length]] )        \n",
    "        text = text.lower()\n",
    "        text = re.sub(u\\\"é\\\", u\\\"e\\\", text)\n",
    "        text = re.sub(u\\\"ē\\\", u\\\"e\\\", text)\n",
    "        text = re.sub(u\\\"è\\\", u\\\"e\\\", text)\n",
    "        text = re.sub(u\\\"ê\\\", u\\\"e\\\", text)\n",
    "        text = re.sub(u\\\"à\\\", u\\\"a\\\", text)\n",
    "        text = re.sub(u\\\"â\\\", u\\\"a\\\", text)\n",
    "        text = re.sub(u\\\"ô\\\", u\\\"o\\\", text)\n",
    "        text = re.sub(u\\\"ō\\\", u\\\"o\\\", text)\n",
    "        text = re.sub(u\\\"ü\\\", u\\\"u\\\", text)\n",
    "        text = re.sub(u\\\"ï\\\", u\\\"i\\\", text)\n",
    "        text = re.sub(u\\\"ç\\\", u\\\"c\\\", text)\n",
    "        text = re.sub(u\\\"\\\\u2019\\\", u\\\"'\\\", text)\n",
    "        text = re.sub(u\\\"\\\\xed\\\", u\\\"i\\\", text)\n",
    "        text = re.sub(u\\\"w\\\\/\\\", u\\\" with \\\", text)\n",
    "        \n",
    "        text = re.sub(u\\\"[^a-z0-9]\\\", \\\" \\\", text)\n",
    "        text = u\\\" \\\".join(re.split('(\\\\d+)',text) )\n",
    "        text = re.sub( u\\\"\\\\s+\\\", u\\\" \\\", text ).strip()\n",
    "        text = ''.join(text)\n",
    "    except:\n",
    "        text = np.NaN\n",
    "    return text"
   ]
  }
 ],
 "metadata": {
  "language_info": {
   "name": "python"
  },
  "orig_nbformat": 4
 },
 "nbformat": 4,
 "nbformat_minor": 2
}
